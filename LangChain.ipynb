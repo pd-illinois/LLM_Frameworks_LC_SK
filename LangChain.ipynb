{
 "cells": [
  {
   "attachments": {},
   "cell_type": "markdown",
   "metadata": {},
   "source": [
    "# Langchain Basics"
   ]
  },
  {
   "attachments": {},
   "cell_type": "markdown",
   "metadata": {},
   "source": [
    "## Initial Settings\n",
    "### Load Libraries"
   ]
  },
  {
   "cell_type": "code",
   "execution_count": 30,
   "metadata": {},
   "outputs": [],
   "source": [
    "import os\n",
    "import openai\n",
    "from langchain.llms import AzureOpenAI\n",
    "from langchain.chat_models import AzureChatOpenAI\n",
    "from langchain.embeddings import OpenAIEmbeddings\n",
    "from langchain.prompts import PromptTemplate\n",
    "from langchain.chains import LLMChain\n",
    "from langchain.chains import ConversationChain\n",
    "from langchain.memory import ConversationBufferMemory\n",
    "from langchain.schema import HumanMessage, SystemMessage, AIMessage\n",
    "from langchain.agents import create_pandas_dataframe_agent\n",
    "from langchain.agents import create_csv_agent\n",
    "\n",
    "import pandas as pd\n",
    "from dotenv import load_dotenv"
   ]
  },
  {
   "attachments": {},
   "cell_type": "markdown",
   "metadata": {},
   "source": [
    "### Set Environment Variables for Azure OpenAI Access"
   ]
  },
  {
   "cell_type": "code",
   "execution_count": 11,
   "metadata": {},
   "outputs": [],
   "source": [
    "load_dotenv()\n",
    "API_KEY = os.getenv(\"apikey\")\n",
    "BASE_ENDPOINT = os.getenv(\"api_base\")\n",
    "COMPLETION_MODEL = os.getenv(\"completion_model\")\n",
    "CHAT_MODEL = os.getenv(\"chat_model\")\n",
    "EMBEDDING_MODEL = os.getenv(\"embedding_model\")\n",
    "DEPLOYMENT_VERSION = os.getenv(\"api_version\")\n",
    "\n",
    "#init Azure OpenAI\n",
    "openai.api_type = \"azure\"\n",
    "openai.api_version = DEPLOYMENT_VERSION\n",
    "openai.api_base = BASE_ENDPOINT\n",
    "openai.api_key = API_KEY"
   ]
  },
  {
   "attachments": {},
   "cell_type": "markdown",
   "metadata": {},
   "source": [
    "### Initalizing Azure OpenAI Model Object"
   ]
  },
  {
   "cell_type": "code",
   "execution_count": 3,
   "metadata": {},
   "outputs": [],
   "source": [
    "# Initializing Davinci Model for text completion \n",
    "llm = AzureOpenAI(\n",
    "    deployment_name=COMPLETION_MODEL ,\n",
    "    openai_api_key= API_KEY ,openai_api_version =DEPLOYMENT_VERSION\n",
    "    )"
   ]
  },
  {
   "cell_type": "code",
   "execution_count": 4,
   "metadata": {},
   "outputs": [],
   "source": [
    "# Use this format for Chatgpt or GPT4\n",
    "gptchat = AzureChatOpenAI(\n",
    "    deployment_name=CHAT_MODEL,\n",
    "    openai_api_base = BASE_ENDPOINT,\n",
    "    openai_api_key= API_KEY,\n",
    "    openai_api_version=\"2023-03-15-preview\"\n",
    ")"
   ]
  },
  {
   "attachments": {},
   "cell_type": "markdown",
   "metadata": {},
   "source": [
    "### Simple Prompt Test"
   ]
  },
  {
   "cell_type": "code",
   "execution_count": 6,
   "metadata": {},
   "outputs": [
    {
     "name": "stdout",
     "output_type": "stream",
     "text": [
      "\n",
      "\n",
      "Q: What did the baby corn say to the mama corn?\n",
      "A: Where's my popcorn?\n"
     ]
    }
   ],
   "source": [
    "joke = llm(\"Tell me a dad joke\")\n",
    "print(joke)"
   ]
  },
  {
   "attachments": {},
   "cell_type": "markdown",
   "metadata": {},
   "source": [
    "### Simple Chat Test\n",
    "\n"
   ]
  },
  {
   "cell_type": "code",
   "execution_count": 9,
   "metadata": {},
   "outputs": [
    {
     "data": {
      "text/plain": [
       "AIMessage(content='As of 2021, top movie trends in the US include:\\n\\n1. Streaming service releases: With COVID-19 restrictions, more movies are premiering on streaming platforms like Netflix, Hulu, and Disney+.\\n2. Superhero movies: The Marvel and DC cinematic universes continue to dominate the box office with films like Black Widow and The Suicide Squad.\\n3. Nostalgia and remakes: Revivals of classic franchises such as Ghostbusters: Afterlife and The Matrix Resurrections are popular.\\n4. Diverse representation: Audiences are demanding more diversity, with films like In the Heights and Shang-Chi and the Legend of the Ten Rings showcasing underrepresented cultures.\\n5. High-concept sci-fi: Mind-bending, visually-stunning films like Dune and Tenet are gaining traction as audiences crave immersive experiences.', additional_kwargs={}, example=False)"
      ]
     },
     "execution_count": 9,
     "metadata": {},
     "output_type": "execute_result"
    }
   ],
   "source": [
    "response = gptchat(\n",
    "    [\n",
    "        SystemMessage(content=\"You are an AI assistant that helps a user with marketing content. Keep responses short and under 5 sentences.\"),\n",
    "        HumanMessage(content=\"What are top movie trends in US\")\n",
    "    ]\n",
    ")\n",
    "response"
   ]
  },
  {
   "attachments": {},
   "cell_type": "markdown",
   "metadata": {},
   "source": [
    "### Embeddings"
   ]
  },
  {
   "cell_type": "code",
   "execution_count": 10,
   "metadata": {},
   "outputs": [
    {
     "name": "stdout",
     "output_type": "stream",
     "text": [
      "<class 'list'>\n",
      "1536\n",
      "[0.009326309897005558, -0.0006310197059065104, 0.006163125857710838, -0.015400114469230175, -0.013527460396289825]\n"
     ]
    }
   ],
   "source": [
    "openai_embed = OpenAIEmbeddings(model=EMBEDDING_MODEL,\n",
    "                                openai_api_key=API_KEY)\n",
    "\n",
    "query_embeddings = openai_embed.embed_query(\"The sky is blue\") \n",
    "\n",
    "print(type(query_embeddings))\n",
    "print(len(query_embeddings))\n",
    "print(query_embeddings[:5])"
   ]
  },
  {
   "attachments": {},
   "cell_type": "markdown",
   "metadata": {},
   "source": [
    "### Using Prompt Templates for use input and capturing any variables / non static informations"
   ]
  },
  {
   "cell_type": "code",
   "execution_count": 12,
   "metadata": {},
   "outputs": [
    {
     "name": "stdout",
     "output_type": "stream",
     "text": [
      "FINAL PROMPT: Write a small advertisement a new Headphones and its description Best headphones?\n",
      " Look no further!\n",
      "\n",
      "Introducing the newest headphones on the market: the XOXO headphones. These headphones offer superior sound quality, with a deep bass and clear treble that will make your music sound truly amazing. The headphones come with a comfortable, adjustable headband for a snug fit and soft ear pads for added comfort. The noise isolation technology ensures your music will remain clear, even in noisy environments. With a sleek, modern design, these headphones are perfect for any occasion. Get your XOXO headphones today and experience the best sound quality money can buy!\n"
     ]
    }
   ],
   "source": [
    "# Define a prompt template with placeholders for input variables.\n",
    "prompt_template = PromptTemplate(\n",
    "        template = 'Write a small advertisement a new {product} and its description {product_desc}?',\n",
    "        input_variables = ['product', 'product_desc']\n",
    ")\n",
    "\n",
    "# Create the final prompt by filling in the defined variables.\n",
    "final_prompt = prompt_template.format(product='Headphones',  product_desc='Best headphones')\n",
    "print(\"FINAL PROMPT: \" + final_prompt)\n",
    "\n",
    "response = llm(final_prompt) \n",
    "print(response)"
   ]
  },
  {
   "cell_type": "code",
   "execution_count": 13,
   "metadata": {},
   "outputs": [
    {
     "name": "stdout",
     "output_type": "stream",
     "text": [
      "\n",
      "\n",
      "Introducing the new Electric Vehicle from Iceland! Our Electric Vehicle is an eco-friendly car that is powered by a lithium-ion battery, providing a convenient and affordable way to travel. With a range of up to 200 kilometers, you can explore the great outdoors of Iceland without having to worry about refueling. The Electric Vehicle is also equipped with a range of safety features, including advanced airbags, traction control, and an anti-lock braking system, to ensure a safe and secure ride. Come experience the power and convenience of the new Electric Vehicle from Iceland!\n"
     ]
    }
   ],
   "source": [
    "# Reuse the prompt Template\n",
    "print(llm(prompt_template.format(product ='Electric Vehicle', product_desc='Iceland')))"
   ]
  },
  {
   "attachments": {},
   "cell_type": "markdown",
   "metadata": {},
   "source": [
    "### Structured Output Parser"
   ]
  },
  {
   "cell_type": "code",
   "execution_count": 14,
   "metadata": {},
   "outputs": [],
   "source": [
    "# 1. Define the schema\n",
    "\n",
    "from langchain.output_parsers import StructuredOutputParser, ResponseSchema\n",
    "\n",
    "response_schemas = [\n",
    "    ResponseSchema(name=\"product\", description=\"This is a product\"),\n",
    "    ResponseSchema(name=\"product_desc\", description=\"This is a short description of the product\")\n",
    "]\n",
    "\n",
    "output_parser = StructuredOutputParser.from_response_schemas(response_schemas)"
   ]
  },
  {
   "cell_type": "code",
   "execution_count": 15,
   "metadata": {},
   "outputs": [
    {
     "name": "stdout",
     "output_type": "stream",
     "text": [
      "The output should be a markdown code snippet formatted in the following schema, including the leading and trailing \"```json\" and \"```\":\n",
      "\n",
      "```json\n",
      "{\n",
      "\t\"product\": string  // This is a product\n",
      "\t\"product_desc\": string  // This is a short description of the product\n",
      "}\n",
      "```\n"
     ]
    }
   ],
   "source": [
    "# 2. Generates output format instructions which can be included in your prompt.\n",
    "\n",
    "format_instructions = output_parser.get_format_instructions()\n",
    "print (format_instructions)"
   ]
  },
  {
   "cell_type": "code",
   "execution_count": 16,
   "metadata": {},
   "outputs": [
    {
     "name": "stdout",
     "output_type": "stream",
     "text": [
      "FINAL PROMPT:\n",
      "\n",
      "You will be given a product by the user.\n",
      "Please provide a imaginary, creative and non offensive product name and a short description of the product.\n",
      "\n",
      "The output should be a markdown code snippet formatted in the following schema, including the leading and trailing \"```json\" and \"```\":\n",
      "\n",
      "```json\n",
      "{\n",
      "\t\"product\": string  // This is a product\n",
      "\t\"product_desc\": string  // This is a short description of the product\n",
      "}\n",
      "```\n",
      "\n",
      "% PRODUCT:\n",
      "Iphone\n",
      "\n",
      "YOUR RESPONSE:\n",
      "\n"
     ]
    }
   ],
   "source": [
    "# 3. Incorporate into final prompt.\n",
    "\n",
    "template = '''\n",
    "You will be given a product by the user.\n",
    "Please provide a imaginary, creative and non offensive product name and a short description of the product.\n",
    "\n",
    "{format_instructions}\n",
    "\n",
    "% PRODUCT:\n",
    "{product}\n",
    "\n",
    "YOUR RESPONSE:\n",
    "'''\n",
    "\n",
    "prompt_template = PromptTemplate(\n",
    "    input_variables=[\"product\"],\n",
    "    partial_variables={\"format_instructions\": format_instructions},\n",
    "    template=template\n",
    ")\n",
    "\n",
    "prompt = prompt_template.format(product=\"Iphone\")\n",
    "print('FINAL PROMPT:')\n",
    "print(prompt)"
   ]
  },
  {
   "cell_type": "code",
   "execution_count": 21,
   "metadata": {},
   "outputs": [
    {
     "name": "stdout",
     "output_type": "stream",
     "text": [
      "```json\n",
      "{\n",
      "\t\"product\": \"Iphone\",\n",
      "\t\"product_desc\": \"A sleek and powerful phone with a modern design and the latest technology features.\"\n",
      "}\n",
      "```\n"
     ]
    }
   ],
   "source": [
    "# 4. LLM now outputs an easily parsable response.\n",
    "\n",
    "response = llm(prompt)\n",
    "print(response)"
   ]
  },
  {
   "cell_type": "code",
   "execution_count": 23,
   "metadata": {},
   "outputs": [
    {
     "data": {
      "text/plain": [
       "'A sleek and powerful phone with a modern design and the latest technology features.'"
      ]
     },
     "execution_count": 23,
     "metadata": {},
     "output_type": "execute_result"
    }
   ],
   "source": [
    "# 5. Output parser can extract named fields in the schema.\n",
    "\n",
    "output_parser.parse(response)['product_desc']"
   ]
  },
  {
   "attachments": {},
   "cell_type": "markdown",
   "metadata": {},
   "source": [
    "### Sequential Chains"
   ]
  },
  {
   "cell_type": "code",
   "execution_count": 24,
   "metadata": {},
   "outputs": [],
   "source": [
    "# Chain component 1: \n",
    "\n",
    "from langchain.chains import LLMChain\n",
    "from langchain.chains import SimpleSequentialChain\n",
    "\n",
    "template1 = \"\"\"You will be given an error from the user. Please provide a possible solution.\n",
    "\n",
    "% ERROR\n",
    "{error}\n",
    "\n",
    "YOUR RESPONSE:\n",
    "\"\"\"\n",
    "prompt_template1 = PromptTemplate(input_variables=[\"error\"], template=template1)\n",
    "\n",
    "# LLMChain is a simple chain which takes a prompt template, formats with user input and returns LLM output.\n",
    "error_chain = LLMChain(llm=llm, prompt=prompt_template1)"
   ]
  },
  {
   "cell_type": "code",
   "execution_count": 25,
   "metadata": {},
   "outputs": [],
   "source": [
    "# Chain component 2: \n",
    "\n",
    "template2 = \"\"\"Given the error message, provide a short solution for fixing it.\n",
    "\n",
    "% MESSAGE\n",
    "{message}\n",
    "\n",
    "YOUR RESPONSE:\n",
    "\"\"\"\n",
    "prompt_template2 = PromptTemplate(input_variables=[\"message\"], template=template2)\n",
    "\n",
    "message_chain = LLMChain(llm=llm, prompt=prompt_template2)"
   ]
  },
  {
   "cell_type": "code",
   "execution_count": 26,
   "metadata": {},
   "outputs": [
    {
     "name": "stdout",
     "output_type": "stream",
     "text": [
      "\n",
      "\n",
      "\u001b[1m> Entering new  chain...\u001b[0m\n",
      "\u001b[36;1m\u001b[1;3mThis error occurs when attempting to divide by zero. To fix this, make sure that you are not attempting to divide by zero, or if you are, use a conditional statement to handle the error.\u001b[0m\n",
      "\u001b[33;1m\u001b[1;3mTo fix this error, make sure that you are not attempting to divide by zero. If you are, use a conditional statement to handle the error and prevent it from occurring.\u001b[0m\n",
      "\n",
      "\u001b[1m> Finished chain.\u001b[0m\n"
     ]
    }
   ],
   "source": [
    "# Run the chain\n",
    "overall_chain = SimpleSequentialChain(\n",
    "    chains=[error_chain, message_chain],\n",
    "    verbose=True)\n",
    "chain_output = overall_chain.run(\"ZeroDivisionError\")"
   ]
  },
  {
   "cell_type": "code",
   "execution_count": 27,
   "metadata": {},
   "outputs": [
    {
     "name": "stdout",
     "output_type": "stream",
     "text": [
      "To fix this error, make sure that you are not attempting to divide by zero. If you are, use a conditional statement to handle the error and prevent it from occurring.\n"
     ]
    }
   ],
   "source": [
    "print(chain_output)"
   ]
  },
  {
   "attachments": {},
   "cell_type": "markdown",
   "metadata": {},
   "source": [
    "### Document loader & text splitting**"
   ]
  },
  {
   "cell_type": "code",
   "execution_count": 28,
   "metadata": {},
   "outputs": [
    {
     "name": "stdout",
     "output_type": "stream",
     "text": [
      "The Project Gutenberg eBook of The Merchant of Venice, by William Shakespeare\n",
      "Document length in characters: 154162\n"
     ]
    }
   ],
   "source": [
    "from langchain.document_loaders import GutenbergLoader\n",
    "\n",
    "# Load a long document.\n",
    "loader = GutenbergLoader('https://www.gutenberg.org/cache/epub/1515/pg1515.txt')\n",
    "doc = loader.load()\n",
    "\n",
    "print(doc[0].page_content[:80].rstrip())\n",
    "print('Document length in characters:', len(doc[0].page_content))"
   ]
  },
  {
   "cell_type": "code",
   "execution_count": 29,
   "metadata": {},
   "outputs": [
    {
     "data": {
      "text/plain": [
       "'THE PRINCE OF MOROCCO, suitor to Portia\\r\\n\\n\\nTHE PRINCE OF ARRAGON, suitor to Portia\\r\\n\\n\\nANTONIO, a merchant of Venice\\r\\n\\n\\nBASSANIO, his friend, suitor to Portia\\r\\n\\n\\nGRATIANO, friend to Antonio and Bassanio\\r\\n\\n\\nSOLANIO, friend to Antonio and Bassanio\\r\\n\\n\\nSALARINO, friend to Antonio and Bassanio\\r\\n\\n\\nLORENZO, in love with Jessica\\r\\n\\n\\nSHYLOCK, a rich Jew\\r\\n\\n\\nTUBAL, a Jew, his friend\\r\\n\\n\\nLAUNCELET GOBBO, a clown, servant to Shylock\\r\\n\\n\\nOLD GOBBO, father to Launcelet\\r\\n\\n\\nLEONARDO, servant to Bassanio\\r\\n\\n\\nBALTHAZAR, servant to Portia\\r\\n\\n\\nSTEPHANO, servant to Portia\\r\\n\\n\\nSALERIO, a messenger from Venice\\r\\n\\n\\n\\r\\n\\n\\nPORTIA, a rich heiress\\r\\n\\n\\nNERISSA, her waiting-woman\\r\\n\\n\\nJESSICA, daughter to Shylock\\r\\n\\n\\n\\r\\n\\n\\nMagnificoes of Venice, Officers of the Court of Justice, a Gaoler,\\r\\n\\n\\nServants and other Attendants\\r\\n\\n\\n\\r\\n\\n\\nSCENE: Partly at Venice, and partly at Belmont, the seat of Portia on\\r\\n\\n\\nthe Continent\\r\\n\\n\\n\\r\\n\\n\\n\\r\\n\\n\\n\\r\\n\\n\\n\\r\\n\\n\\nACT I\\r\\n\\n\\n\\r\\n\\n\\nSCENE I. Venice. A street.\\r\\n\\n\\n\\r\\n\\n\\n\\r\\n\\n\\n Enter Antonio, Salarino and Solanio.'"
      ]
     },
     "execution_count": 29,
     "metadata": {},
     "output_type": "execute_result"
    }
   ],
   "source": [
    "from langchain.embeddings.openai import OpenAIEmbeddings\n",
    "from langchain.text_splitter import CharacterTextSplitter\n",
    "from langchain.vectorstores import Chroma\n",
    "\n",
    "# We need to split long documents into smaller chunks to stay under the LLM token limit.\n",
    "text_splitter = CharacterTextSplitter(chunk_size=1000, chunk_overlap=0)\n",
    "texts = text_splitter.split_text(doc[0].page_content)\n",
    "texts[2]"
   ]
  },
  {
   "attachments": {},
   "cell_type": "markdown",
   "metadata": {},
   "source": [
    "### Agents\n",
    "#### CSV Agent Example"
   ]
  },
  {
   "cell_type": "code",
   "execution_count": 36,
   "metadata": {},
   "outputs": [],
   "source": [
    "agent = create_csv_agent(llm, 'goalies17.csv', verbose=True)"
   ]
  },
  {
   "cell_type": "code",
   "execution_count": 37,
   "metadata": {},
   "outputs": [
    {
     "name": "stdout",
     "output_type": "stream",
     "text": [
      "\n",
      "\n",
      "\u001b[1m> Entering new  chain...\u001b[0m\n",
      "\u001b[32;1m\u001b[1;3mThought: I should look at the 'Saves' column in the dataframe\n",
      "Action: python_repl_ast\n",
      "Action Input: df['Saves'].max()\u001b[0m\n",
      "Observation: \u001b[36;1m\u001b[1;3m28928.0\u001b[0m\n",
      "Thought:\u001b[32;1m\u001b[1;3m I should also look at the player who saved the most goals\n",
      "Action: python_repl_ast\n",
      "Action Input: df[df['Saves'] == df['Saves'].max()]\u001b[0m\n",
      "Observation: \u001b[36;1m\u001b[1;3m             Player  First  Last  Active  Games Played  Games Started    Win  \\\n",
      "392  Martin Brodeur   1991  2015      22          1266          369.0  691.0   \n",
      "\n",
      "      Loss  Ties and Overtime Losses  Goals Against  Shot Saved    Saves  \\\n",
      "392  397.0                     154.0           2781     31709.0  28928.0   \n",
      "\n",
      "     Save Percentage  Goals Against Average  Shutouts  Penalties In Minutes  \\\n",
      "392            0.912                   2.24       125                   122   \n",
      "\n",
      "     Minutes  \n",
      "392    74439  \u001b[0m\n",
      "Thought:\u001b[32;1m\u001b[1;3m I now know the final answer\n",
      "Final Answer: Martin Brodeur saved 28928 goals.\u001b[0m\n",
      "\n",
      "\u001b[1m> Finished chain.\u001b[0m\n"
     ]
    },
    {
     "data": {
      "text/plain": [
       "'Martin Brodeur saved 28928 goals.'"
      ]
     },
     "execution_count": 37,
     "metadata": {},
     "output_type": "execute_result"
    }
   ],
   "source": [
    "agent.run(\"Who saved the most goals and how many total goals did they save?\")"
   ]
  },
  {
   "cell_type": "code",
   "execution_count": 6,
   "metadata": {},
   "outputs": [
    {
     "data": {
      "text/plain": [
       "'Green, blue, indigo, violet.'"
      ]
     },
     "execution_count": 6,
     "metadata": {},
     "output_type": "execute_result"
    }
   ],
   "source": [
    "\n",
    "\n",
    "conversation = ConversationChain(\n",
    "    llm=gptchat,\n",
    "    memory=ConversationBufferMemory()\n",
    ")\n",
    "\n",
    "conversation.run(\"Answer briefly. What are the first 3 colors of a rainbow?\")\n",
    "# -> The first three colors of a rainbow are red, orange, and yellow.\n",
    "conversation.run(\"And the next 4?\")\n",
    "# -> The next four colors of a rainbow are green, blue, indigo, and violet."
   ]
  },
  {
   "cell_type": "code",
   "execution_count": 14,
   "metadata": {},
   "outputs": [],
   "source": [
    "template = \"\"\"You are a article generation tool that generates articles for\\\n",
    "            AXE Deordrant. Use title similar to Number of Tips from Pros to Make Your Fragrance Last and Keep Your Scent Game Strong. Keywords to include: how to make cologne last longer, long-lasting deodorant , how to make deodorant last longer , how to make fragrance last longer, long lasting deodorant spray, how to layer fragrances, long lasting body spray, how long does body spray last, how long do fragrances last, how to apply fragrance, how to make fragrance last longer, where to apply fragrance, long lasting body spray for men, best fragrance layering combinations, long lasting men's fragrance, deodorant , deodorant for men, body spray, antiperspirant, antiperspirant, mens body spray, deodorant body spray.\\\n",
    "            The content should use details keywords and explain and extend them and use {content}. \\\n",
    "            The word count of the article should be minimum 1000 words\n",
    "            {chat_history}\n",
    "            Human: {content}\n",
    "            Chatbot:\"\"\"\n",
    "\n",
    "prompt = PromptTemplate(\n",
    "    input_variables=[\"chat_history\", \"content\"], template=template\n",
    ")\n",
    "memory = ConversationBufferMemory(memory_key=\"chat_history\")"
   ]
  },
  {
   "cell_type": "code",
   "execution_count": 16,
   "metadata": {},
   "outputs": [],
   "source": [
    "llm_chain = LLMChain(\n",
    "    llm=gptchat,\n",
    "    prompt=prompt,\n",
    "    verbose=True,\n",
    "    memory=memory,\n",
    ")"
   ]
  },
  {
   "cell_type": "code",
   "execution_count": 18,
   "metadata": {},
   "outputs": [
    {
     "name": "stdout",
     "output_type": "stream",
     "text": [
      "\n",
      "\n",
      "\u001b[1m> Entering new  chain...\u001b[0m\n",
      "Prompt after formatting:\n",
      "\u001b[32;1m\u001b[1;3mYou are a article generation tool that generates articles for            AXE Deordrant. Use title similar to Number of Tips from Pros to Make Your Fragrance Last and Keep Your Scent Game Strong. Keywords to include: how to make cologne last longer, long-lasting deodorant , how to make deodorant last longer , how to make fragrance last longer, long lasting deodorant spray, how to layer fragrances, long lasting body spray, how long does body spray last, how long do fragrances last, how to apply fragrance, how to make fragrance last longer, where to apply fragrance, long lasting body spray for men, best fragrance layering combinations, long lasting men's fragrance, deodorant , deodorant for men, body spray, antiperspirant, antiperspirant, mens body spray, deodorant body spray.            The content should use details keywords and explain and extend them and use Write an introductory paragraph that gives context to the reader, introducing the overall theme of the article. Try to include the target keywords.             The word count of the article should be minimum 1000 words\n",
      "            Human: Write an introductory paragraph that gives context to the reader, introducing the overall theme of the article. Try to include the target keywords\n",
      "AI: In the world of men's grooming, a strong scent game is essential for making a lasting impression. To help you achieve this, we've gathered expert advice on how to make cologne last longer, along with tips for using long-lasting deodorant and body sprays. In this comprehensive guide, we'll explore how to make fragrance last longer, the art of layering fragrances, and the best long-lasting body spray options for men. Discover how long fragrances last, where to apply them, and the best fragrance layering combinations to create a unique and long-lasting men's fragrance. From deodorant to antiperspirant and body spray, we've got you covered in the quest for the ultimate scent game.\n",
      "            Human: Write an introductory paragraph that gives context to the reader, introducing the overall theme of the article. Try to include the target keywords\n",
      "            Chatbot:\u001b[0m\n",
      "\n",
      "\u001b[1m> Finished chain.\u001b[0m\n"
     ]
    }
   ],
   "source": [
    "intro_text = llm_chain.predict(content= \"Write an introductory paragraph that gives context to the reader, introducing the overall theme of the article. Try to include the target keywords\")"
   ]
  },
  {
   "cell_type": "code",
   "execution_count": 19,
   "metadata": {},
   "outputs": [
    {
     "data": {
      "text/plain": [
       "\"Mastering the art of a captivating and long-lasting scent is an essential aspect of men's grooming and personal style. In this comprehensive guide, we delve into expert tips on how to make cologne and deodorant last longer, ensuring that your scent game remains strong throughout the day. We'll discuss the ins and outs of long-lasting deodorant sprays, fragrance layering techniques, and the best application methods for various products, ranging from antiperspirants to men's body sprays. Learn about the longevity of fragrances, where to apply them for maximum impact, and the ideal fragrance combinations to create a signature scent that is uniquely you. Get ready to elevate your fragrance game with this in-depth exploration of deodorants, antiperspirants, and body sprays for men.\""
      ]
     },
     "execution_count": 19,
     "metadata": {},
     "output_type": "execute_result"
    }
   ],
   "source": [
    "intro_text"
   ]
  },
  {
   "cell_type": "code",
   "execution_count": 20,
   "metadata": {},
   "outputs": [
    {
     "name": "stdout",
     "output_type": "stream",
     "text": [
      "\n",
      "\n",
      "\u001b[1m> Entering new  chain...\u001b[0m\n",
      "Prompt after formatting:\n",
      "\u001b[32;1m\u001b[1;3mYou are a article generation tool that generates articles for            AXE Deordrant. Use title similar to Number of Tips from Pros to Make Your Fragrance Last and Keep Your Scent Game Strong. Keywords to include: how to make cologne last longer, long-lasting deodorant , how to make deodorant last longer , how to make fragrance last longer, long lasting deodorant spray, how to layer fragrances, long lasting body spray, how long does body spray last, how long do fragrances last, how to apply fragrance, how to make fragrance last longer, where to apply fragrance, long lasting body spray for men, best fragrance layering combinations, long lasting men's fragrance, deodorant , deodorant for men, body spray, antiperspirant, antiperspirant, mens body spray, deodorant body spray.            The content should use details keywords and explain and extend them and use Discuss how fragrance should be applied on clean, dry, moisturized skin, why having clean, well-hydrated skin aids in retaining fragrance.             The word count of the article should be minimum 1000 words\n",
      "            Human: Write an introductory paragraph that gives context to the reader, introducing the overall theme of the article. Try to include the target keywords\n",
      "AI: In the world of men's grooming, a strong scent game is essential for making a lasting impression. To help you achieve this, we've gathered expert advice on how to make cologne last longer, along with tips for using long-lasting deodorant and body sprays. In this comprehensive guide, we'll explore how to make fragrance last longer, the art of layering fragrances, and the best long-lasting body spray options for men. Discover how long fragrances last, where to apply them, and the best fragrance layering combinations to create a unique and long-lasting men's fragrance. From deodorant to antiperspirant and body spray, we've got you covered in the quest for the ultimate scent game.\n",
      "Human: Write an introductory paragraph that gives context to the reader, introducing the overall theme of the article. Try to include the target keywords\n",
      "AI: Mastering the art of a captivating and long-lasting scent is an essential aspect of men's grooming and personal style. In this comprehensive guide, we delve into expert tips on how to make cologne and deodorant last longer, ensuring that your scent game remains strong throughout the day. We'll discuss the ins and outs of long-lasting deodorant sprays, fragrance layering techniques, and the best application methods for various products, ranging from antiperspirants to men's body sprays. Learn about the longevity of fragrances, where to apply them for maximum impact, and the ideal fragrance combinations to create a signature scent that is uniquely you. Get ready to elevate your fragrance game with this in-depth exploration of deodorants, antiperspirants, and body sprays for men.\n",
      "            Human: Discuss how fragrance should be applied on clean, dry, moisturized skin, why having clean, well-hydrated skin aids in retaining fragrance\n",
      "            Chatbot:\u001b[0m\n",
      "\n",
      "\u001b[1m> Finished chain.\u001b[0m\n"
     ]
    }
   ],
   "source": [
    "content_1 = llm_chain.predict(content= \"Discuss how fragrance should be applied on clean, dry, moisturized skin, why having clean, well-hydrated skin aids in retaining fragrance\")"
   ]
  },
  {
   "cell_type": "code",
   "execution_count": 21,
   "metadata": {},
   "outputs": [
    {
     "data": {
      "text/plain": [
       "\"To achieve the best results and ensure that your fragrance lasts throughout the day, it's crucial to apply it on clean, dry, and moisturized skin. By following these simple guidelines, you can significantly enhance the longevity and effectiveness of your chosen scent.\\n\\nFirst and foremost, clean skin provides the ideal canvas for your fragrance. When you shower and cleanse your skin, you remove dirt, oils, and any remnants of previously applied fragrances, allowing the new scent to adhere better to your skin. Additionally, a clean base ensures that your fragrance will not mix with body odor or other unwanted scents, which could alter your chosen scent or weaken its potency.\\n\\nOnce your skin is clean, make sure it is completely dry before applying your fragrance. Wet or damp skin can dilute the scent, making it less effective and causing it to evaporate more quickly. Pat your skin dry with a towel and wait for a few minutes to ensure it is thoroughly dry before applying your cologne, deodorant, or body spray.\\n\\nLastly, moisturized skin plays a vital role in retaining fragrance. Well-hydrated skin is better equipped to absorb and hold onto your chosen scent, ultimately allowing it to last longer. Applying a fragrance-free or lightly scented moisturizer to your skin before spritzing on your cologne, deodorant, or body spray can help create a strong foundation for your scent. This extra layer of moisture will lock in the fragrance, preventing it from evaporating too quickly and ensuring that your scent remains strong throughout the day.\\n\\nIn summary, to make the most of your fragrance and enjoy a long-lasting scent, always apply it to clean, dry, and moisturized skin. This simple yet effective approach will help you achieve a captivating and enduring scent that leaves a lasting impression.\""
      ]
     },
     "execution_count": 21,
     "metadata": {},
     "output_type": "execute_result"
    }
   ],
   "source": [
    "content_1"
   ]
  },
  {
   "cell_type": "code",
   "execution_count": 15,
   "metadata": {},
   "outputs": [],
   "source": [
    "from langchain.prompts import PromptTemplate\n",
    "from langchain.chains import LLMChain"
   ]
  },
  {
   "cell_type": "code",
   "execution_count": 17,
   "metadata": {},
   "outputs": [
    {
     "name": "stdout",
     "output_type": "stream",
     "text": [
      " :  Discuss the concept of spritzing instead of misting and the importance of applying fragrance at a distance from the body, to avoid overwhelming the senses.            Strategically Target Application Sites :  Discuss the importance of applying and layering fragrances on pulse points and other areas to help boost scent.            Refresh Throughout the Day :  Discuss the importance of refreshing fragrances throughout the day, and the benefits of using long-lasting body sprays to refresh the scent. Use Axe product examples such as Axe Signature Gold Body Spray.            Conclusion : Summarize article and link to Axe product pages where readers can explore Axe fragrances.\n",
      "\n",
      "Introduction\n",
      "People who want to make sure their fragrance game is on point all day long know that it's not just about spritzing on your favorite scent and walking out the door. It's about making sure your fragrance lasts as long as possible so you can stay fresh and smell great all day. That's why we've gathered advice from Lil' Baby, sporting pros, and gamers on how they stay fresh AF and make their fragrance last.\n",
      "\n",
      "Post Shower Application\n",
      "The first step to making sure your fragrance lasts all day is to apply it on clean, dry, and moisturized skin. Shower\n"
     ]
    }
   ],
   "source": [
    "prompt = PromptTemplate(\n",
    "    input_variables=[\"title\",\"message\",\"wordcount\"],\n",
    "    template=\"Write an article for Axe Deodrant with {title} that talks about the {message} and has a word count of minimum {wordcount}.\\\n",
    "            The article should have the following structure\\\n",
    "            Introduction : Give context to reader and introduce article theme. Use keywords from message\\\n",
    "            Post Shower Application : Discuss how fragrance should be applied on clean, dry, moisturized skin, why having clean, well-hydrated skin aids in retaining fragrance\\\n",
    "            Long-Lasting Fragrances : Discuss the importance of selecting fragrances with good longevity, include brief mention to the different types of fragrances and their staying power, additionally make reference to long-lasting fragrance notes\\\n",
    "            Layer Your Fragrances :  Discuss at large the concept of layering different fragrance products to enhance longevity, the benefits of using complimentary fragranced shower gels, lotions, and oils, as well as using deodorant and fragrance. Use Axe product examples such as Axe Blue Lavender Premium Deodorant Body Spray.\\\n",
    "            Spritz Don't Mist  \",\n",
    ")\n",
    "chain = LLMChain(llm=llm, prompt=prompt)\n",
    "print(chain.run({\n",
    "    'title': \"Number of Tips from Pros to Make Your Fragrance Last and Keep Your Scent Game Strong\",\n",
    "    'message': \"In this listicle, we share top tips from Lil' Baby, sporting pros and \\\n",
    "                gamers on how they stay fresh AF all day by making their fragrance last.\\\n",
    "                Keywords to include: how to make cologne last longer, long-lasting deodorant , how \\\n",
    "                to make deodorant last longer , how to make fragrance last longer, long lasting deodorant spray,\\\n",
    "                how to layer fragrances, long lasting body spray, how long does body spray last,\\\n",
    "                how long do fragrances last, how to apply fragrance, how to make fragrance last\\\n",
    "                longer, where to apply fragrance, long lasting body spray for men, best fragrance \\\n",
    "                layering combinations, long lasting men's fragrance, deodorant ,\\\n",
    "                deodorant for men, body spray, antiperspirant, antiperspirant, \\\n",
    "                mens body spray, deodorant body spray\",\n",
    "    'wordcount': \"4000\"\n",
    "    }))"
   ]
  },
  {
   "cell_type": "code",
   "execution_count": 11,
   "metadata": {},
   "outputs": [],
   "source": [
    "# Chain component 1: \n",
    "\n",
    "from langchain.chains import LLMChain\n",
    "from langchain.chains import SimpleSequentialChain\n",
    "\n",
    "template1 = \"\"\"You will be given a message , title and wordcount from user. Generate an article based on the message,title and wordcount.Wordcount is the minimum word list of generated content.\n",
    "    % MESSAGE \n",
    "    {message}\n",
    "    % TITLE \n",
    "    {title}\n",
    "    % WORDCOUNT \n",
    "    {wordcount}\n",
    "\n",
    "YOUR RESPONSE:\n",
    "\"\"\"\n",
    "product_prompt = PromptTemplate(input_variables=[\"message\",\"title\",\"wordcount\"], template=template1)\n",
    "\n",
    "# LLMChain is a simple chain which takes a prompt template, formats with user input and returns LLM output.\n",
    "product_chain = LLMChain(llm=llm, prompt=product_prompt)"
   ]
  },
  {
   "cell_type": "code",
   "execution_count": 12,
   "metadata": {},
   "outputs": [],
   "source": [
    "# Chain component 2: \n",
    "\n",
    "template2 = \"\"\"Given the message , title and wordcount, ensure you generate content with following topics.\n",
    "\n",
    "% CONTENT\n",
    "{content}\n",
    "\n",
    "YOUR RESPONSE:\n",
    "\"\"\"\n",
    "product_content = PromptTemplate(input_variables=[\"content\"], template=template2)\n",
    "\n",
    "message_chain = LLMChain(llm=llm, prompt=product_content)"
   ]
  },
  {
   "cell_type": "code",
   "execution_count": 14,
   "metadata": {},
   "outputs": [
    {
     "ename": "ValidationError",
     "evalue": "1 validation error for SimpleSequentialChain\n__root__\n  Chains used in SimplePipeline should all have one input, got memory=None callbacks=None callback_manager=None verbose=False tags=None prompt=PromptTemplate(input_variables=['message', 'title', 'wordcount'], output_parser=None, partial_variables={}, template='You will be given a message , title and wordcount from user. Generate an article based on the message,title and wordcount.Wordcount is the minimum word list of generated content.\\n    % MESSAGE \\n    {message}\\n    % TITLE \\n    {title}\\n    % WORDCOUNT \\n    {wordcount}\\n\\nYOUR RESPONSE:\\n', template_format='f-string', validate_template=True) llm=AzureOpenAI(cache=None, verbose=False, callbacks=None, callback_manager=None, tags=None, client=<class 'openai.api_resources.completion.Completion'>, model_name='text-davinci-003', temperature=0.7, max_tokens=256, top_p=1, frequency_penalty=0, presence_penalty=0, n=1, best_of=1, model_kwargs={}, openai_api_key='b5e76f903ec64f18b32e284e4f6a06e0', openai_api_base='', openai_organization='', openai_proxy='', batch_size=20, request_timeout=None, logit_bias={}, max_retries=6, streaming=False, allowed_special=set(), disallowed_special='all', deployment_name='text-davinci-003', openai_api_type='azure', openai_api_version='2023-03-15-preview') output_key='text' with 3 inputs. (type=value_error)",
     "output_type": "error",
     "traceback": [
      "\u001b[1;31m---------------------------------------------------------------------------\u001b[0m",
      "\u001b[1;31mValidationError\u001b[0m                           Traceback (most recent call last)",
      "Cell \u001b[1;32mIn[14], line 1\u001b[0m\n\u001b[1;32m----> 1\u001b[0m overall_chain \u001b[39m=\u001b[39m SimpleSequentialChain(\n\u001b[0;32m      2\u001b[0m     chains\u001b[39m=\u001b[39;49m[product_chain, message_chain],\n\u001b[0;32m      3\u001b[0m     verbose\u001b[39m=\u001b[39;49m\u001b[39mTrue\u001b[39;49;00m)\n\u001b[0;32m      4\u001b[0m chain_output \u001b[39m=\u001b[39m overall_chain\u001b[39m.\u001b[39mrun(\u001b[39m\"\u001b[39m\u001b[39mIn this listicle, we share top tips from Lil\u001b[39m\u001b[39m'\u001b[39m\u001b[39m Baby, \u001b[39m\u001b[39m\\\u001b[39;00m\n\u001b[0;32m      5\u001b[0m \u001b[39m                                 sporting pros and gamers on how they stay fresh AF all day by making their fragrance last.\u001b[39m\u001b[39m\\\u001b[39;00m\n\u001b[0;32m      6\u001b[0m \u001b[39m                            Keywords to include: how to make cologne last longer, long-lasting deodorant\u001b[39m\u001b[39m\\\u001b[39;00m\n\u001b[1;32m   (...)\u001b[0m\n\u001b[0;32m     12\u001b[0m \u001b[39m                                  deodorant , deodorant for men, body spray, antiperspirant, antiperspirant, mens body spray\u001b[39m\u001b[39m\\\u001b[39;00m\n\u001b[0;32m     13\u001b[0m \u001b[39m                                 , deodorant body spray\u001b[39m\u001b[39m\"\u001b[39m)\n",
      "File \u001b[1;32mc:\\Users\\pdhiman\\Anaconda3\\lib\\site-packages\\langchain\\load\\serializable.py:61\u001b[0m, in \u001b[0;36mSerializable.__init__\u001b[1;34m(self, **kwargs)\u001b[0m\n\u001b[0;32m     60\u001b[0m \u001b[39mdef\u001b[39;00m \u001b[39m__init__\u001b[39m(\u001b[39mself\u001b[39m, \u001b[39m*\u001b[39m\u001b[39m*\u001b[39mkwargs: Any) \u001b[39m-\u001b[39m\u001b[39m>\u001b[39m \u001b[39mNone\u001b[39;00m:\n\u001b[1;32m---> 61\u001b[0m     \u001b[39msuper\u001b[39m()\u001b[39m.\u001b[39m\u001b[39m__init__\u001b[39m(\u001b[39m*\u001b[39m\u001b[39m*\u001b[39mkwargs)\n\u001b[0;32m     62\u001b[0m     \u001b[39mself\u001b[39m\u001b[39m.\u001b[39mlc_kwargs \u001b[39m=\u001b[39m kwargs\n",
      "File \u001b[1;32mc:\\Users\\pdhiman\\Anaconda3\\lib\\site-packages\\pydantic\\main.py:341\u001b[0m, in \u001b[0;36mpydantic.main.BaseModel.__init__\u001b[1;34m()\u001b[0m\n",
      "\u001b[1;31mValidationError\u001b[0m: 1 validation error for SimpleSequentialChain\n__root__\n  Chains used in SimplePipeline should all have one input, got memory=None callbacks=None callback_manager=None verbose=False tags=None prompt=PromptTemplate(input_variables=['message', 'title', 'wordcount'], output_parser=None, partial_variables={}, template='You will be given a message , title and wordcount from user. Generate an article based on the message,title and wordcount.Wordcount is the minimum word list of generated content.\\n    % MESSAGE \\n    {message}\\n    % TITLE \\n    {title}\\n    % WORDCOUNT \\n    {wordcount}\\n\\nYOUR RESPONSE:\\n', template_format='f-string', validate_template=True) llm=AzureOpenAI(cache=None, verbose=False, callbacks=None, callback_manager=None, tags=None, client=<class 'openai.api_resources.completion.Completion'>, model_name='text-davinci-003', temperature=0.7, max_tokens=256, top_p=1, frequency_penalty=0, presence_penalty=0, n=1, best_of=1, model_kwargs={}, openai_api_key='b5e76f903ec64f18b32e284e4f6a06e0', openai_api_base='', openai_organization='', openai_proxy='', batch_size=20, request_timeout=None, logit_bias={}, max_retries=6, streaming=False, allowed_special=set(), disallowed_special='all', deployment_name='text-davinci-003', openai_api_type='azure', openai_api_version='2023-03-15-preview') output_key='text' with 3 inputs. (type=value_error)"
     ]
    }
   ],
   "source": [
    "overall_chain = SimpleSequentialChain(\n",
    "    chains=[product_chain, message_chain],\n",
    "    verbose=True)\n",
    "chain_output = overall_chain.run(\"In this listicle, we share top tips from Lil' Baby, \\\n",
    "                                 sporting pros and gamers on how they stay fresh AF all day by making their fragrance last.\\\n",
    "                            Keywords to include: how to make cologne last longer, long-lasting deodorant\\\n",
    "                                  , how to make deodorant last longer , how to make fragrance last longer,\\\n",
    "                                  long lasting deodorant spray, how to layer fragrances, long lasting body spray,\\\n",
    "                                  how long does body spray last, how long do fragrances last, how to apply\\\n",
    "                                  fragrance, how to make fragrance last longer, where to apply fragrance, long lasting\\\n",
    "                                  body spray for men, best fragrance layering combinations, long lasting men's fragrance,\\\n",
    "                                  deodorant , deodorant for men, body spray, antiperspirant, antiperspirant, mens body spray\\\n",
    "                                 , deodorant body spray\")"
   ]
  }
 ],
 "metadata": {
  "kernelspec": {
   "display_name": "base",
   "language": "python",
   "name": "python3"
  },
  "language_info": {
   "codemirror_mode": {
    "name": "ipython",
    "version": 3
   },
   "file_extension": ".py",
   "mimetype": "text/x-python",
   "name": "python",
   "nbconvert_exporter": "python",
   "pygments_lexer": "ipython3",
   "version": "3.10.9"
  },
  "orig_nbformat": 4
 },
 "nbformat": 4,
 "nbformat_minor": 2
}
